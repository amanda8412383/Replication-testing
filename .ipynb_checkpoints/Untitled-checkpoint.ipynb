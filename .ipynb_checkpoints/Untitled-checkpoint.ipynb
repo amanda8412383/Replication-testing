{
 "cells": [
  {
   "cell_type": "markdown",
   "metadata": {},
   "source": [
    "\n",
    "- ## phd_econometrics_HW\n",
    "containing 4 programming assignment I did for phd courses econometrics2 in Uni Bonn.\n",
    "    \n",
    "    * **problem set 1:** dataset estimation & using monte carlo simulation to examine efficiecy of IV and OLS estimator in given setting.\n",
    "\n",
    "    * **problem set 2:** monte carlo simulation of strictly stationary setting\n",
    "\n",
    "    - **problem set 3:** simulate censored data and estimate with 2 step estimator and probit model\n",
    "\n",
    "    - **problem set 4:** comparing GMM estimation using identity matrix and optimal weight matrix in given setting, then doing overidentification test"
   ]
  }
 ],
 "metadata": {
  "kernelspec": {
   "display_name": "Python 3",
   "language": "python",
   "name": "python3"
  },
  "language_info": {
   "codemirror_mode": {
    "name": "ipython",
    "version": 3
   },
   "file_extension": ".py",
   "mimetype": "text/x-python",
   "name": "python",
   "nbconvert_exporter": "python",
   "pygments_lexer": "ipython3",
   "version": "3.7.6"
  }
 },
 "nbformat": 4,
 "nbformat_minor": 4
}
